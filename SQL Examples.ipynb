{
 "cells": [
  {
   "cell_type": "markdown",
   "metadata": {},
   "source": [
    "* ! Материалы взяты из курса \"Интерактивный трёнажер по SQL\". link: https://stepik.org/course/63054/syllabus"
   ]
  },
  {
   "cell_type": "markdown",
   "metadata": {},
   "source": [
    "## Таблица \"Нарушения ПДД\", запросы корректировки\""
   ]
  },
  {
   "cell_type": "markdown",
   "metadata": {},
   "source": [
    "**Задание**\n",
    "\n",
    "Создать таблицу _fine_ следующей структуры:\n",
    "\n",
    "| Поле | Описание |\n",
    "| --- | --- |\n",
    "| fine_id | ключевой столбец целого типа с автоматическим увеличением значения ключа на 1 |\n",
    "| name | строка длиной 30 |\n",
    "| number_plate | строка длиной 6 |\n",
    "| violation | строка длиной 50 | \n",
    "| sum_fine | вещественное число, максимальная длина 8, количество знаков после запятой 2 |\n",
    "| date_violation | дата |\n",
    "| date_payment | дата |"
   ]
  },
  {
   "cell_type": "code",
   "execution_count": null,
   "metadata": {},
   "outputs": [],
   "source": [
    "CREATE TABLE fine(fine_id INT PRIMARY KEY AUTO_INCREMENT,  \n",
    "                  name VARCHAR(30),  \n",
    "                  number_plate VARCHAR(6),  \n",
    "                  violation VARCHAR(50),\n",
    "                  sum_fine DECIMAL(8,2),\n",
    "                  date_violation DATE,\n",
    "                  date_payment DATE);"
   ]
  },
  {
   "cell_type": "markdown",
   "metadata": {},
   "source": [
    "**Задание**  \n",
    "В таблицу уже внесены 5 записей. Добавить в таблицу записи с ключевыми значениями:\n",
    "\n",
    "| fine_id | name  | number_plate | violation | sum_fine | date_violation | date_payment |\n",
    "| --- | ---  | --- | --- | --- | --- | --- |\n",
    "| 6 | Баранов П.Е. | Р523ВТ | Превышение скорости (от 40 до 60) | | 2020-02-14 | |\n",
    "| 7 | Абрамова К.А.| О111АВ | Проезд на запрещающий сигнал | | 2020-02-23 | |\n",
    "| 8 | Яковлев Г.Р. | Т330ТТ\t| Проезд на запрещающий сигнал | | 2020-03-03 | |\n"
   ]
  },
  {
   "cell_type": "code",
   "execution_count": null,
   "metadata": {},
   "outputs": [],
   "source": [
    "INSERT INTO fine(name, number_plate, violation, date_violation)\n",
    "VALUES\n",
    "       (\"Баранов П.Е.\", \"Р523ВТ\", \"Превышение скорости(от 40 до 60)\", \"2020-02-14\"),\n",
    "       (\"Абрамова К.А.\", \"О111АВ\", \"Проезд на запрещающий сигнал\", \"2020-02-23\"), \n",
    "       (\"Яковлев Г.Р.\", \"Т330ТТ\", \"Проезд на запрещающий сигнал\", \"2020-03-03\");"
   ]
  },
  {
   "cell_type": "markdown",
   "metadata": {},
   "source": [
    "**Задание**\n",
    "\n",
    "Занести в таблицу _fine_ суммы штрафов, которые должен оплатить водитель, в соответствии с данными из таблицы _traffic_violation_. При этом суммы заносить только в пустые поля столбца _sum_fine_.  \n",
    "Таблица _traffic_violation_ создана и заполнена.  \n",
    "Важно! Сравнение значения столбца с пустым значением осуществляется с помощью оператора _IS NULL_."
   ]
  },
  {
   "cell_type": "code",
   "execution_count": null,
   "metadata": {},
   "outputs": [],
   "source": [
    "UPDATE fine f, traffic_violation tv\n",
    "SET f.sum_fine = tv.sum_fine\n",
    "WHERE f.sum_fine IS NULL AND f.violation = tv.violation;\n",
    "\n",
    "SELECT * FROM fine;"
   ]
  },
  {
   "cell_type": "markdown",
   "metadata": {},
   "source": [
    "**Задание**  \n",
    "\n",
    "Вывести фамилию, номер машины и нарушение только для тех водителей, которые на одной машине нарушили одно и то же правило   два и более раз. При этом учитывать все нарушения, независимо от того оплачены они или нет. Информацию отсортировать в алфавитном порядке, сначала по фамилии водителя, потом по номеру машины и, наконец, по нарушению."
   ]
  },
  {
   "cell_type": "code",
   "execution_count": null,
   "metadata": {},
   "outputs": [],
   "source": [
    "SELECT name, number_plate, violation\n",
    "FROM fine\n",
    "GROUP BY name, number_plate, violation\n",
    "HAVING COUNT(*) > 1\n",
    "ORDER BY name, number_plate, violation"
   ]
  },
  {
   "cell_type": "markdown",
   "metadata": {},
   "source": [
    "**Задание**  \n",
    "\n",
    "В таблице _fine_ увеличить в два раза сумму неоплаченных штрафов для отобранных на предыдущем шаге записей. "
   ]
  },
  {
   "cell_type": "code",
   "execution_count": null,
   "metadata": {},
   "outputs": [],
   "source": [
    "UPDATE fine f,\n",
    "           (SELECT name,\n",
    "                   number_plate,\n",
    "                   violation\n",
    "                   FROM fine\n",
    "                   GROUP BY name, number_plate, violation\n",
    "                   HAVING COUNT(*) > 1) query_in\n",
    "SET f.sum_fine = f.sum_fine * 2\n",
    "WHERE f.date_payment IS NULL AND f.name = query_in.name AND\n",
    "                               f.number_plate = query_in.number_plate AND\n",
    "                               f.violation = query_in.violation;\n",
    "\n",
    "SELECT * FROM fine;"
   ]
  },
  {
   "cell_type": "markdown",
   "metadata": {},
   "source": [
    "**Задание**  \n",
    "\n",
    "Водители оплачивают свои штрафы. В таблице payment занесены даты их оплаты:\n",
    "\n",
    "| payment_id | name | number_plate | violation | date_violation | date_payment |\n",
    "| --- | --- | --- |  --- | ---| ---| \n",
    "| 1 | Яковлев Г.Р. | М701АА | Превышение скорости (от 20 до 40) | 2020-01-12 | 2020-01-22|\n",
    "| 2 | Баранов П.Е. | Р523ВТ | Превышение скорости (от 40 до 60) | 2020-02-14 | 2020-03-06|\n",
    "| 3 | Яковлев Г.Р. | Т330ТТ | Проезд на запрещающий сигнал | 2020-03-03 | 2020-03-23 |\n",
    "\n",
    "Необходимо:\n",
    "\n",
    "- в таблицу _fine_ занести дату оплаты соответствующего штрафа из таблицы _payment_ ; \n",
    "- уменьшить начисленный штраф в таблице _fine_ в два раза  (только для тех штрафов, информация о которых занесена в таблицу payment) , если оплата произведена не позднее 20 дней со дня нарушения."
   ]
  },
  {
   "cell_type": "code",
   "execution_count": null,
   "metadata": {},
   "outputs": [],
   "source": [
    "UPDATE fine f, payment p\n",
    "SET f.date_payment = p.date_payment,\n",
    "    f.sum_fine = IF(DATEDIFF(p.date_payment, f.date_violation) > 20, f.sum_fine, f.sum_fine/2)\n",
    "WHERE f.date_payment IS NULL \n",
    "      AND f.name = p.name\n",
    "      AND f.number_plate = p.number_plate\n",
    "      AND f.violation = p.violation\n",
    "      AND f.date_violation = p.date_violation;\n",
    "\n",
    "SELECT * FROM fine;"
   ]
  },
  {
   "cell_type": "markdown",
   "metadata": {},
   "source": [
    "**Задание**  \n",
    "\n",
    "Создать новую таблицу _back_payment_, куда внести информацию о неоплаченных штрафах (Фамилию и инициалы водителя, номер машины, нарушение, сумму штрафа  и  дату нарушения) из таблицы _fine_."
   ]
  },
  {
   "cell_type": "code",
   "execution_count": null,
   "metadata": {},
   "outputs": [],
   "source": [
    "CREATE TABLE back_payment\n",
    "SELECT name, number_plate, violation, sum_fine, date_violation\n",
    "FROM fine\n",
    "WHERE date_payment IS NULL;\n",
    "\n",
    "SELECT * FROM back_payment;"
   ]
  },
  {
   "attachments": {},
   "cell_type": "markdown",
   "metadata": {},
   "source": [
    "## База данных «Интернет-магазин книг», запросы на выборку\n",
    "**Логическая модель базы данных**\n",
    "![jupyter](https://ucarecdn.com/bad26356-5e34-4945-a9d4-0748686a6b54/)"
   ]
  },
  {
   "cell_type": "markdown",
   "metadata": {},
   "source": [
    "**Задание**\n",
    "\n",
    "Вывести информацию о каждом заказе: его номер, кто его сформировал (фамилия пользователя) и его стоимость (сумма произведений количества заказанных книг и их цены), в отсортированном по номеру заказа виде. Последний столбец назвать _Стоимость_."
   ]
  },
  {
   "cell_type": "code",
   "execution_count": null,
   "metadata": {},
   "outputs": [],
   "source": [
    "SELECT buy_id, name_client, SUM(book.price*buy_book.amount) AS Стоимость\n",
    "FROM buy LEFT JOIN client USING(client_id) LEFT JOIN buy_book USING(buy_id) INNER JOIN book USING(book_id)\n",
    "GROUP BY buy_id\n",
    "ORDER BY 1"
   ]
  },
  {
   "cell_type": "markdown",
   "metadata": {},
   "source": [
    "**Задание**\n",
    "\n",
    "Вывести номера заказов (*buy_id*) и названия этапов, на которых они в данный момент находятся. Если заказ доставлен –  информацию о нем не выводить. Информацию отсортировать по возрастанию *buy_id*."
   ]
  },
  {
   "cell_type": "code",
   "execution_count": null,
   "metadata": {},
   "outputs": [],
   "source": [
    "SELECT buy_id, name_step\n",
    "FROM buy LEFT JOIN buy_step USING(buy_id) INNER JOIN step USING(step_id)\n",
    "WHERE date_step_beg IS NOT Null AND date_step_end IS Null\n",
    "ORDER BY 1"
   ]
  },
  {
   "cell_type": "markdown",
   "metadata": {},
   "source": [
    "**Задание**\n",
    "\n",
    "В таблице *city* для каждого города указано количество дней, за которые заказ может быть доставлен в этот город (рассматривается только этап Транспортировка). Для тех заказов, которые прошли этап транспортировки, вывести количество дней за которое заказ реально доставлен в город. А также, если заказ доставлен с опозданием, указать количество дней задержки, в противном случае вывести 0. В результат включить номер заказа (*buy_id*), а также вычисляемые столбцы *Количество_дней* и *Опоздание*. Информацию вывести в отсортированном по номеру заказа виде."
   ]
  },
  {
   "cell_type": "code",
   "execution_count": null,
   "metadata": {},
   "outputs": [],
   "source": [
    "SELECT buy_id,\n",
    "       DATEDIFF(date_step_end, date_step_beg) AS Количество_дней,\n",
    "       GREATEST(DATEDIFF(date_step_end, date_step_beg) - days_delivery, 0) AS Опоздание\n",
    "FROM buy_step JOIN buy USING(buy_id)\n",
    "              JOIN client USING(client_id)\n",
    "              JOIN city USING(city_id)\n",
    "WHERE step_id = 3 AND date_step_end IS NOT Null"
   ]
  },
  {
   "cell_type": "markdown",
   "metadata": {},
   "source": [
    "**Задание**\n",
    "\n",
    "Выбрать всех клиентов, которые заказывали книги Достоевского, информацию вывести в отсортированном по алфавиту виде. В решении используйте фамилию автора, а не его *id*."
   ]
  },
  {
   "cell_type": "code",
   "execution_count": null,
   "metadata": {},
   "outputs": [],
   "source": [
    "SELECT DISTINCT name_client\n",
    "FROM client JOIN buy USING(client_id)\n",
    "    WHERE buy_id = ANY(\n",
    "        SELECT buy_id FROM buy_book WHERE book_id = ANY(\n",
    "            SELECT book_id FROM book JOIN author USING(author_id) WHERE name_author LIKE \"%Достоевский%\"))\n",
    "ORDER BY 1"
   ]
  },
  {
   "cell_type": "markdown",
   "metadata": {},
   "source": [
    "**Задание**\n",
    "\n",
    "Вывести жанр (или жанры), в котором было заказано больше всего экземпляров книг, указать это количество . Последний столбец назвать *Количество*."
   ]
  },
  {
   "cell_type": "code",
   "execution_count": null,
   "metadata": {},
   "outputs": [],
   "source": [
    "SELECT name_genre, SUM(buy_book.amount) AS Количество\n",
    "FROM genre LEFT JOIN book USING(genre_id) JOIN buy_book USING(book_id)\n",
    "GROUP BY name_genre\n",
    "HAVING SUM(buy_book.amount) = \n",
    "    (SELECT SUM(buy_book.amount)\n",
    "     FROM genre LEFT JOIN book USING(genre_id) JOIN buy_book USING(book_id)\n",
    "     GROUP BY name_genre\n",
    "     ORDER BY 1 DESC\n",
    "     LIMIT 1)"
   ]
  },
  {
   "cell_type": "markdown",
   "metadata": {},
   "source": [
    "**Задание**\n",
    "\n",
    "Сравнить ежемесячную выручку от продажи книг за текущий и предыдущий годы. Для этого вывести год, месяц, сумму выручки в отсортированном сначала по возрастанию месяцев, затем по возрастанию лет виде. Название столбцов: *Год*, *Месяц*, *Сумма*."
   ]
  },
  {
   "cell_type": "code",
   "execution_count": null,
   "metadata": {},
   "outputs": [],
   "source": [
    "SELECT YEAR(date_step_end) AS \"Год\",\n",
    "       MONTHNAME(date_step_end) AS \"Месяц\",\n",
    "       SUM(buy_book.amount * book.price) AS \"Сумма\"\n",
    "FROM buy_book JOIN buy_step USING(buy_id) JOIN book USING(book_id)\n",
    "WHERE step_id = 1 AND date_step_end IS NOT NULL\n",
    "GROUP BY 1, 2\n",
    "UNION\n",
    "SELECT YEAR(date_payment) AS \"Год\",\n",
    "       MONTHNAME(date_payment) AS \"Месяц\",\n",
    "       SUM(amount * price) AS \"Сумма\"\n",
    "FROM buy_archive \n",
    "GROUP BY 1, 2\n",
    "ORDER BY 2, 1"
   ]
  },
  {
   "cell_type": "markdown",
   "metadata": {},
   "source": [
    "**Задание**\n",
    "\n",
    "Для каждой отдельной книги необходимо вывести информацию о количестве проданных экземпляров и их стоимости за 2020 и 2019 год . Вычисляемые столбцы назвать *Количество* и *Сумма*. Информацию отсортировать по убыванию стоимости."
   ]
  },
  {
   "cell_type": "code",
   "execution_count": null,
   "metadata": {},
   "outputs": [],
   "source": [
    "SELECT title, SUM(amount) AS Количество, SUM(price) AS Сумма\n",
    "FROM(\n",
    "    SELECT title, SUM(bb.amount) AS amount, SUM(bb.amount * b.price) AS price\n",
    "    FROM buy_book bb JOIN buy_step bs USING(buy_id) JOIN book b USING(book_id)\n",
    "    WHERE step_id = 1 AND date_step_end IS NOT NULL\n",
    "    GROUP BY 1\n",
    "    UNION\n",
    "    SELECT title, SUM(ba.amount), SUM(ba.amount * ba.price) AS price\n",
    "    FROM buy_archive ba JOIN book USING(book_id)\n",
    "    GROUP BY 1\n",
    ") t1\n",
    "GROUP BY 1\n",
    "ORDER BY 3 DESC"
   ]
  },
  {
   "cell_type": "markdown",
   "metadata": {},
   "source": [
    "## База данных «Интернет-магазин книг», запросы корректировки\n",
    "**Задание**  \n",
    "\n",
    "В таблицу *buy_book* добавить заказ с номером 5. Этот заказ должен содержать книгу Пастернака «Лирика» в количестве двух экземпляров и книгу Булгакова «Белая гвардия» в одном экземпляре."
   ]
  },
  {
   "cell_type": "code",
   "execution_count": null,
   "metadata": {},
   "outputs": [],
   "source": [
    "INSERT INTO buy_book(book_id, buy_id, amount)\n",
    "VALUES\n",
    "   ((SELECT book_id FROM book WHERE author_id =\n",
    "    (SELECT author_id FROM author WHERE name_author LIKE \"%Пастернак%\")\n",
    "    AND title=\"Лирика\"), 5, 2),\n",
    "   ((SELECT book_id FROM book WHERE author_id =\n",
    "    (SELECT author_id FROM author WHERE name_author LIKE \"%Булгаков%\")\n",
    "    AND title=\"Белая гвардия\"), 5, 1);\n",
    "\n",
    "SELECT * FROM buy_book"
   ]
  },
  {
   "cell_type": "markdown",
   "metadata": {},
   "source": [
    "**Задание**  \n",
    "\n",
    "Количество тех книг на складе, которые были включены в заказ с номером 5, уменьшить на то количество, которое в заказе с номером 5  указано."
   ]
  },
  {
   "cell_type": "code",
   "execution_count": null,
   "metadata": {},
   "outputs": [],
   "source": [
    "UPDATE book, buy_book\n",
    "SET book.amount = book.amount - buy_book.amount\n",
    "WHERE buy_book.buy_id=5 AND book.book_id = buy_book.book_id;\n",
    "\n",
    "SELECT * FROM book"
   ]
  },
  {
   "cell_type": "markdown",
   "metadata": {},
   "source": [
    "**Задание**  \n",
    "\n",
    "Создать счет (таблицу *buy_pay*) на оплату заказа с номером 5, в который включить название книг, их автора, цену, количество заказанных книг и  стоимость. Последний столбец назвать *Стоимость*. Информацию в таблицу занести в отсортированном по названиям книг виде."
   ]
  },
  {
   "cell_type": "code",
   "execution_count": null,
   "metadata": {},
   "outputs": [],
   "source": [
    "CREATE TABLE buy_pay AS\n",
    "SELECT book.title, author.name_author, book.price, buy_book.amount, buy_book.amount * book.price AS \"Стоимость\"\n",
    "FROM book, buy_book, author\n",
    "WHERE buy_book.buy_id = 5 AND buy_book.book_id = book.book_id AND book.author_id = author.author_id\n",
    "ORDER BY 1;\n",
    "\n",
    "SELECT * FROM buy_pay"
   ]
  },
  {
   "cell_type": "markdown",
   "metadata": {},
   "source": [
    "**Задание**  \n",
    "\n",
    "Создать общий счет (таблицу *buy_pay*) на оплату заказа с номером 5. Куда включить номер заказа, количество книг в заказе (название столбца *Количество*) и его общую стоимость (название столбца *Итого*)."
   ]
  },
  {
   "cell_type": "code",
   "execution_count": null,
   "metadata": {},
   "outputs": [],
   "source": [
    "CREATE TABLE buy_pay AS\n",
    "SELECT buy_book.buy_id, SUM(buy_book.amount) AS \"Количество\", SUM(buy_book.amount * book.price) AS \"Итого\"\n",
    "FROM book, buy_book, author\n",
    "WHERE buy_book.buy_id = 5 AND buy_book.book_id = book.book_id AND book.author_id = author.author_id\n",
    "GROUP BY 1;\n",
    "\n",
    "SELECT * FROM buy_pay"
   ]
  },
  {
   "cell_type": "markdown",
   "metadata": {},
   "source": [
    "**Задание**  \n",
    "\n",
    "В таблицу *buy_step* для заказа с номером 5 включить все этапы из таблицы *step*, которые должен пройти этот заказ. В столбцы *date_step_beg* и *date_step_end* всех записей занести *Null*."
   ]
  },
  {
   "cell_type": "code",
   "execution_count": null,
   "metadata": {},
   "outputs": [],
   "source": [
    "INSERT INTO buy_step(buy_id, step_id)\n",
    "(SELECT buy_id, step_id FROM buy CROSS JOIN step WHERE buy.buy_id = 5);\n",
    "\n",
    "SELECT * FROM buy_step"
   ]
  },
  {
   "cell_type": "markdown",
   "metadata": {},
   "source": [
    "**Задание**  \n",
    "\n",
    "В таблицу *buy_step* занести дату 12.04.2020 выставления счета на оплату заказа с номером 5.\n",
    "\n",
    "Правильнее было бы занести не конкретную, а текущую дату. Это можно сделать с помощью функции *Now()*. Но при этом в разные дни будут вставляться разная дата, и задание нельзя будет проверить, поэтому  вставим дату 12.04.2020."
   ]
  },
  {
   "cell_type": "code",
   "execution_count": null,
   "metadata": {},
   "outputs": [],
   "source": [
    "UPDATE buy_step\n",
    "SET date_step_beg = \"2020-04-12\"\n",
    "WHERE buy_id = 5 AND step_id = 1;\n",
    "\n",
    "SELECT * FROM buy_step"
   ]
  },
  {
   "cell_type": "markdown",
   "metadata": {},
   "source": [
    "**Задание**  \n",
    "\n",
    "Завершить этап **«Оплата»** для заказа с номером 5, вставив в столбец *date_step_end* дату 13.04.2020, и начать следующий этап (**«Упаковка»**), задав в столбце *date_step_beg* для этого этапа ту же дату.\n",
    "\n",
    "Реализовать два запроса для завершения этапа и начала следующего. Они должны быть записаны в общем виде, чтобы его можно было применять для любых этапов, изменив только текущий этап. Для примера пусть это будет этап **«Оплата»**."
   ]
  },
  {
   "cell_type": "code",
   "execution_count": null,
   "metadata": {},
   "outputs": [],
   "source": [
    "SET @buy_id = 5;\n",
    "SET @date = \"2020-04-13\";\n",
    "SET @step_id = 1;\n",
    "\n",
    "UPDATE buy_step\n",
    "SET date_step_end = @date\n",
    "WHERE buy_id = @buy_id AND step_id = @step_id;\n",
    "\n",
    "UPDATE buy_step\n",
    "SET date_step_beg = @date\n",
    "WHERE buy_id = @buy_id AND step_id = @step_id + 1;\n",
    "\n",
    "SELECT * FROM buy_step"
   ]
  }
 ],
 "metadata": {
  "kernelspec": {
   "display_name": "Python 3",
   "language": "python",
   "name": "python3"
  },
  "language_info": {
   "codemirror_mode": {
    "name": "ipython",
    "version": 3
   },
   "file_extension": ".py",
   "mimetype": "text/x-python",
   "name": "python",
   "nbconvert_exporter": "python",
   "pygments_lexer": "ipython3",
   "version": "3.8.3"
  }
 },
 "nbformat": 4,
 "nbformat_minor": 4
}
